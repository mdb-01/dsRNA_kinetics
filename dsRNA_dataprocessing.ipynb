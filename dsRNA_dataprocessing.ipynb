{
 "cells": [
  {
   "cell_type": "code",
   "execution_count": 1,
   "id": "dc9f781a-1256-4dbe-92f3-2ae7e08205b0",
   "metadata": {},
   "outputs": [
    {
     "name": "stderr",
     "output_type": "stream",
     "text": [
      "\u001b[32m\u001b[1m  Activating\u001b[22m\u001b[39m new project at `c:\\Users\\chemegrad202\\OneDrive - Massachusetts Institute of Technology\\Documents\\PhD_research\\Braatz_Lab\\dsRNA_kinetics\\rates_and_errors_functions`\n",
      "\u001b[32m\u001b[1m  Activating\u001b[22m\u001b[39m project at `c:\\Users\\chemegrad202\\OneDrive - Massachusetts Institute of Technology\\Documents\\PhD_research\\Braatz_Lab\\dsRNA_kinetics\\dsRNA`\n"
     ]
    },
    {
     "data": {
      "text/html": [
       "<style>.container { width:80% !important; }</style>"
      ]
     },
     "metadata": {},
     "output_type": "display_data"
    }
   ],
   "source": [
    "using Pkg\n",
    "#Activate TOML file in file tree. This installs the relevant packages specified for this project. This will take a long time the first time you run this. \n",
    "Pkg.activate(\"rates_and_errors_functions\")\n",
    "#Compile functions stored in modules\n",
    "include(\"./modules/dsRNA_rates_and_errors.jl\")\n",
    "#Adjust notebook cell width\n",
    "display(\"text/html\", \"<style>.container { width:80% !important; }</style>\")"
   ]
  },
  {
   "cell_type": "code",
   "execution_count": 1,
   "id": "46c6a0e0-c3ae-46ea-a0e9-6b978dab0403",
   "metadata": {},
   "outputs": [
    {
     "data": {
      "text/plain": [
       "\"C:\\\\Users\\\\chemegrad202\\\\OneDrive - Massachusetts Institute of Technology\\\\Documents\\\\PhD_research\\\\Braatz_Lab\\\\dsRNA_kinetics\\\\data_input\\\\CHEMI_09272024_153057_row6.CSV\""
      ]
     },
     "metadata": {},
     "output_type": "display_data"
    }
   ],
   "source": [
    "datafile_row1 = \"C:\\\\Users\\\\chemegrad202\\\\OneDrive - Massachusetts Institute of Technology\\\\Documents\\\\PhD_research\\\\Braatz_Lab\\\\dsRNA_kinetics\\\\data_input\\\\CHEMI_09272024_153057_row1.CSV\"\n",
    "datafile_row2 = \"C:\\\\Users\\\\chemegrad202\\\\OneDrive - Massachusetts Institute of Technology\\\\Documents\\\\PhD_research\\\\Braatz_Lab\\\\dsRNA_kinetics\\\\data_input\\\\CHEMI_09272024_153057_row2.CSV\"\n",
    "datafile_row4 = \"C:\\\\Users\\\\chemegrad202\\\\OneDrive - Massachusetts Institute of Technology\\\\Documents\\\\PhD_research\\\\Braatz_Lab\\\\dsRNA_kinetics\\\\data_input\\\\CHEMI_09272024_153057_row4.CSV\"\n",
    "datafile_row6 = \"C:\\\\Users\\\\chemegrad202\\\\OneDrive - Massachusetts Institute of Technology\\\\Documents\\\\PhD_research\\\\Braatz_Lab\\\\dsRNA_kinetics\\\\data_input\\\\CHEMI_09272024_153057_row6.CSV\""
   ]
  },
  {
   "cell_type": "code",
   "execution_count": 3,
   "id": "3010d223",
   "metadata": {},
   "outputs": [
    {
     "data": {
      "text/plain": [
       "([77.53197442177144 3369.867690150223 1462.425520588189], [945109.2147179267, 151214.98857134941, 37802.71142437154, 1511.7770714665062, 377.8407376457053, 6.166764411980134e-5, 37802.71142437154, 945109.2147179267, 945109.2147179267, 151214.98857134941  …  1511.7770714665062, 377.8407376457053, 6.166764411980134e-5, 945109.2147179267, 151214.98857134941, 37802.71142437154, 1511.7770714665062, 6.166764411980134e-5, 377.8407376457053, 945109.2147179267], [3.780478289213698 -0.010357647165427853; -0.010357647165427855 6.166764411980134e-5])"
      ]
     },
     "metadata": {},
     "output_type": "display_data"
    }
   ],
   "source": [
    "datafile_smallsquares = \"C:\\\\Users\\\\chemegrad202\\\\OneDrive - Massachusetts Institute of Technology\\\\Documents\\\\PhD_research\\\\Braatz_Lab\\\\dsRNA_kinetics\\\\data_input\\\\CHEMI_09272024_153057_smallselection.csv\"\n",
    "standard_data_smallsquares = importlabdata(datafile_smallsquares)\n",
    "slope_error_intersect_small, variance_small, cov_small = slope_estimation_standard(standard_data_smallsquares, 10.0)"
   ]
  },
  {
   "cell_type": "code",
   "execution_count": 9,
   "id": "40a5ffc1",
   "metadata": {},
   "outputs": [
    {
     "data": {
      "text/plain": [
       "5293.287089359947"
      ]
     },
     "metadata": {},
     "output_type": "display_data"
    }
   ],
   "source": [
    "residuals_small = initial_fit(standard_data_smallsquares)\n",
    "sigmasmall = estimate_sigma(residuals_small)"
   ]
  },
  {
   "cell_type": "code",
   "execution_count": 11,
   "id": "1fffddc5",
   "metadata": {},
   "outputs": [
    {
     "data": {
      "text/plain": [
       "0.43525289011295276"
      ]
     },
     "metadata": {},
     "output_type": "display_data"
    }
   ],
   "source": [
    "residuals_small_relative = initial_fit_relative(standard_data_smallsquares)\n",
    "sigmasmall_relative = estimate_sigma(residuals_small_relative)"
   ]
  },
  {
   "cell_type": "code",
   "execution_count": 5,
   "id": "28f96d8d",
   "metadata": {},
   "outputs": [
    {
     "data": {
      "text/plain": [
       "([10867.898861413923 3369.867690150223 280032.02797068236], [945109.2147179267, 151214.98857134941, 37802.71142437154, 1511.7770714665062, 377.8407376457053, 6.166764411980134e-5, 37802.71142437154, 945109.2147179267, 945109.2147179267, 151214.98857134941  …  1511.7770714665062, 377.8407376457053, 6.166764411980134e-5, 945109.2147179267, 151214.98857134941, 37802.71142437154, 1511.7770714665062, 6.166764411980134e-5, 377.8407376457053, 945109.2147179267], [3.780478289213698 -0.010357647165427853; -0.010357647165427855 6.166764411980134e-5])"
      ]
     },
     "metadata": {},
     "output_type": "display_data"
    }
   ],
   "source": [
    "datafile_largesquares = \"C:\\\\Users\\\\chemegrad202\\\\OneDrive - Massachusetts Institute of Technology\\\\Documents\\\\PhD_research\\\\Braatz_Lab\\\\dsRNA_kinetics\\\\data_input\\\\CHEMI_09272024_153057_largeselection.csv\"\n",
    "standard_data_largesquares = importlabdata(datafile_largesquares)\n",
    "slope_error_intersect_large, variance_large, cov_large = slope_estimation_standard(standard_data_largesquares, 10.0)"
   ]
  },
  {
   "cell_type": "code",
   "execution_count": 6,
   "id": "7d00f611",
   "metadata": {},
   "outputs": [
    {
     "data": {
      "text/plain": [
       "792602.6535659619"
      ]
     },
     "metadata": {},
     "output_type": "display_data"
    }
   ],
   "source": [
    "residuals_large = initial_fit(standard_data_largesquares)\n",
    "sigmalarge = estimate_sigma(residuals_large)"
   ]
  },
  {
   "cell_type": "code",
   "execution_count": 12,
   "id": "f2fed188",
   "metadata": {},
   "outputs": [
    {
     "data": {
      "text/plain": [
       "0.402695747819829"
      ]
     },
     "metadata": {},
     "output_type": "display_data"
    }
   ],
   "source": [
    "residuals_large_relative = initial_fit_relative(standard_data_largesquares)\n",
    "sigmalarge_relative = estimate_sigma(residuals_large_relative)"
   ]
  },
  {
   "cell_type": "code",
   "execution_count": 7,
   "id": "6eea70ca",
   "metadata": {},
   "outputs": [
    {
     "data": {
      "text/plain": [
       "([10739.087652249862 3369.867690150223 107171.54330578865], [945109.2147179267, 151214.98857134941, 37802.71142437154, 1511.7770714665062, 377.8407376457053, 6.166764411980134e-5, 37802.71142437154, 945109.2147179267, 945109.2147179267, 151214.98857134941  …  1511.7770714665062, 377.8407376457053, 6.166764411980134e-5, 945109.2147179267, 151214.98857134941, 37802.71142437154, 1511.7770714665062, 6.166764411980134e-5, 377.8407376457053, 945109.2147179267], [3.780478289213698 -0.010357647165427853; -0.010357647165427855 6.166764411980134e-5])"
      ]
     },
     "metadata": {},
     "output_type": "display_data"
    }
   ],
   "source": [
    "datafile_corrvol = \"C:\\\\Users\\\\chemegrad202\\\\OneDrive - Massachusetts Institute of Technology\\\\Documents\\\\PhD_research\\\\Braatz_Lab\\\\dsRNA_kinetics\\\\data_input\\\\CHEMI_09272024_153057_corrvolume.csv\"\n",
    "standard_data_corr = importlabdata(datafile_corrvol)\n",
    "slope_error_intersect_corr, variance_corr, cov_corr = slope_estimation_standard(standard_data_corr, 10.0)"
   ]
  },
  {
   "cell_type": "code",
   "execution_count": 8,
   "id": "6f86ebbd",
   "metadata": {},
   "outputs": [
    {
     "data": {
      "text/plain": [
       "738023.8363621373"
      ]
     },
     "metadata": {},
     "output_type": "display_data"
    }
   ],
   "source": [
    "residuals_corr= initial_fit(standard_data_corr)\n",
    "sigmacorr = estimate_sigma(residuals_corr)"
   ]
  },
  {
   "cell_type": "code",
   "execution_count": 13,
   "id": "cafc18a8",
   "metadata": {},
   "outputs": [
    {
     "data": {
      "text/plain": [
       "0.4499428179080062"
      ]
     },
     "metadata": {},
     "output_type": "display_data"
    }
   ],
   "source": [
    "residuals_corr_relative = initial_fit_relative(standard_data_corr)\n",
    "sigmacorr_relative = estimate_sigma(residuals_corr_relative)"
   ]
  },
  {
   "cell_type": "code",
   "execution_count": 90,
   "id": "9dd20e10",
   "metadata": {},
   "outputs": [
    {
     "data": {
      "text/html": [
       "<div><div style = \"float: left;\"><span>6×2 DataFrame</span></div><div style = \"clear: both;\"></div></div><div class = \"data-frame\" style = \"overflow-x: scroll;\"><table class = \"data-frame\" style = \"margin-bottom: 6px;\"><thead><tr class = \"header\"><th class = \"rowNumber\" style = \"font-weight: bold; text-align: right;\">Row</th><th style = \"text-align: left;\">concentration</th><th style = \"text-align: left;\">volume</th></tr><tr class = \"subheader headerLastRow\"><th class = \"rowNumber\" style = \"font-weight: bold; text-align: right;\"></th><th title = \"Float64\" style = \"text-align: left;\">Float64</th><th title = \"Float64\" style = \"text-align: left;\">Float64</th></tr></thead><tbody><tr><td class = \"rowNumber\" style = \"font-weight: bold; text-align: right;\">1</td><td style = \"text-align: right;\">500.0</td><td style = \"text-align: right;\">2.22316e6</td></tr><tr><td class = \"rowNumber\" style = \"font-weight: bold; text-align: right;\">2</td><td style = \"text-align: right;\">200.0</td><td style = \"text-align: right;\">1.41526e6</td></tr><tr><td class = \"rowNumber\" style = \"font-weight: bold; text-align: right;\">3</td><td style = \"text-align: right;\">100.0</td><td style = \"text-align: right;\">890989.0</td></tr><tr><td class = \"rowNumber\" style = \"font-weight: bold; text-align: right;\">4</td><td style = \"text-align: right;\">20.0</td><td style = \"text-align: right;\">106858.0</td></tr><tr><td class = \"rowNumber\" style = \"font-weight: bold; text-align: right;\">5</td><td style = \"text-align: right;\">10.0</td><td style = \"text-align: right;\">0.0</td></tr><tr><td class = \"rowNumber\" style = \"font-weight: bold; text-align: right;\">6</td><td style = \"text-align: right;\">0.0</td><td style = \"text-align: right;\">0.0</td></tr></tbody></table></div>"
      ],
      "text/latex": [
       "\\begin{tabular}{r|cc}\n",
       "\t& concentration & volume\\\\\n",
       "\t\\hline\n",
       "\t& Float64 & Float64\\\\\n",
       "\t\\hline\n",
       "\t1 & 500.0 & 2.22316e6 \\\\\n",
       "\t2 & 200.0 & 1.41526e6 \\\\\n",
       "\t3 & 100.0 & 890989.0 \\\\\n",
       "\t4 & 20.0 & 106858.0 \\\\\n",
       "\t5 & 10.0 & 0.0 \\\\\n",
       "\t6 & 0.0 & 0.0 \\\\\n",
       "\\end{tabular}\n"
      ],
      "text/plain": [
       "\u001b[1m6×2 DataFrame\u001b[0m\n",
       "\u001b[1m Row \u001b[0m│\u001b[1m concentration \u001b[0m\u001b[1m volume         \u001b[0m\n",
       "     │\u001b[90m Float64       \u001b[0m\u001b[90m Float64        \u001b[0m\n",
       "─────┼───────────────────────────────\n",
       "   1 │         500.0       2.22316e6\n",
       "   2 │         200.0       1.41526e6\n",
       "   3 │         100.0  890989.0\n",
       "   4 │          20.0  106858.0\n",
       "   5 │          10.0       0.0\n",
       "   6 │           0.0       0.0"
      ]
     },
     "metadata": {},
     "output_type": "display_data"
    }
   ],
   "source": [
    "standard_data_df_row1 = importlabdata(datafile_row1)\n",
    "standard_data_df_row2 = importlabdata(datafile_row2)\n",
    "standard_data_df_row4 = importlabdata(datafile_row4)\n",
    "standard_data_df_row6 = importlabdata(datafile_row6)"
   ]
  },
  {
   "cell_type": "code",
   "execution_count": 113,
   "id": "dd896f7a",
   "metadata": {},
   "outputs": [
    {
     "data": {
      "text/plain": [
       "([9577.031415492329 2846.9449930680667 326370.9875235609], [6.743036532268197e6, 1.078867965712234e6, 269709.5418723633, 10785.99820482901, 2695.7549591598595, 0.0005385512970110403], [26.972444125302932 -0.07449959608652724; -0.07449959608652723 0.0005385512970110403])"
      ]
     },
     "metadata": {},
     "output_type": "display_data"
    }
   ],
   "source": [
    "slope_error_intersect_row1, variance_row1, cov_row1 = slope_estimation_standard(standard_data_df_row1, 10.0)"
   ]
  },
  {
   "cell_type": "code",
   "execution_count": 114,
   "id": "33a8e170",
   "metadata": {},
   "outputs": [
    {
     "data": {
      "text/plain": [
       "([12826.030652544652 284694.49930680677 449040.92639799044], [6.743036532268201e10, 1.0788679657122343e10, 2.697095418723634e9, 1.078599820482901e8, 2.6957549591598604e7, 5.385512970110404], [269724.4412530294 -744.9959608652723; -744.9959608652727 5.385512970110404])"
      ]
     },
     "metadata": {},
     "output_type": "display_data"
    }
   ],
   "source": [
    "slope_error_intersect_row2, variance_row2, cov_row2 = slope_estimation_standard(standard_data_df_row2, 1000.0)"
   ]
  },
  {
   "cell_type": "code",
   "execution_count": 115,
   "id": "2d588d6b",
   "metadata": {},
   "outputs": [
    {
     "data": {
      "text/plain": [
       "([10250.740660622927 2846.9449930680667 94605.37528049527], [6.743036532268197e6, 1.078867965712234e6, 269709.5418723633, 10785.99820482901, 2695.7549591598595, 0.0005385512970110403], [26.972444125302932 -0.07449959608652724; -0.07449959608652723 0.0005385512970110403])"
      ]
     },
     "metadata": {},
     "output_type": "display_data"
    }
   ],
   "source": [
    "slope_error_intersect_row4, variance_row4, cov_row4 = slope_estimation_standard(standard_data_df_row4, 10.0)"
   ]
  },
  {
   "cell_type": "code",
   "execution_count": 116,
   "id": "0bc05594",
   "metadata": {},
   "outputs": [
    {
     "data": {
      "text/plain": [
       "([4548.16152050983 2846.9449930680667 143548.82299614], [6.743036532268197e6, 1.078867965712234e6, 269709.5418723633, 10785.99820482901, 2695.7549591598595, 0.0005385512970110403], [26.972444125302932 -0.07449959608652724; -0.07449959608652723 0.0005385512970110403])"
      ]
     },
     "metadata": {},
     "output_type": "display_data"
    }
   ],
   "source": [
    "slope_error_intersect_row6, variance_row6, cov_row6 = slope_estimation_standard(standard_data_df_row6, 10.0)"
   ]
  },
  {
   "cell_type": "code",
   "execution_count": 91,
   "id": "67a8f79e",
   "metadata": {},
   "outputs": [
    {
     "data": {
      "text/plain": [
       "6-element Vector{Float64}:\n",
       " -194469.58325105533\n",
       "  362078.8729018937\n",
       "  292624.02495287685\n",
       " -127654.05340633681\n",
       " -189030.43820123852\n",
       " -143548.82299614022"
      ]
     },
     "metadata": {},
     "output_type": "display_data"
    }
   ],
   "source": [
    "residuals1 = initial_fit(standard_data_df_row1)\n",
    "residuals2 =  initial_fit(standard_data_df_row2)\n",
    "residuals4 =  initial_fit(standard_data_df_row4)\n",
    "residuals6 =  initial_fit(standard_data_df_row6)\n"
   ]
  },
  {
   "cell_type": "code",
   "execution_count": 96,
   "id": "90057128",
   "metadata": {},
   "outputs": [
    {
     "data": {
      "text/plain": [
       "6-element Vector{Float64}:\n",
       " -517556.6952697262\n",
       "       1.305852729377973e6\n",
       "   51165.870927205775\n",
       " -237787.6158334079\n",
       " -275303.30167848465\n",
       " -326370.98752356134"
      ]
     },
     "metadata": {},
     "output_type": "display_data"
    }
   ],
   "source": [
    "residuals1 = initial_fit(standard_data_df_row1)"
   ]
  },
  {
   "cell_type": "code",
   "execution_count": 92,
   "id": "7a5dd922",
   "metadata": {},
   "outputs": [
    {
     "data": {
      "text/plain": [
       "665520.4143594811"
      ]
     },
     "metadata": {},
     "output_type": "display_data"
    }
   ],
   "source": [
    "sigma1 = estimate_sigma(residuals1)"
   ]
  },
  {
   "cell_type": "code",
   "execution_count": 93,
   "id": "de801501",
   "metadata": {},
   "outputs": [
    {
     "data": {
      "text/plain": [
       "730211.3316582218"
      ]
     },
     "metadata": {},
     "output_type": "display_data"
    }
   ],
   "source": [
    "sigma2 = estimate_sigma(residuals2)"
   ]
  },
  {
   "cell_type": "code",
   "execution_count": 94,
   "id": "3c2f7ff5",
   "metadata": {},
   "outputs": [
    {
     "data": {
      "text/plain": [
       "223526.18380270895"
      ]
     },
     "metadata": {},
     "output_type": "display_data"
    }
   ],
   "source": [
    "sigma4 = estimate_sigma(residuals4)"
   ]
  },
  {
   "cell_type": "code",
   "execution_count": 95,
   "id": "13b9b6f3",
   "metadata": {},
   "outputs": [
    {
     "data": {
      "text/plain": [
       "255805.6596295571"
      ]
     },
     "metadata": {},
     "output_type": "display_data"
    }
   ],
   "source": [
    "sigma6 = estimate_sigma(residuals6)"
   ]
  },
  {
   "cell_type": "code",
   "execution_count": 16,
   "id": "5ff2cd57",
   "metadata": {},
   "outputs": [
    {
     "name": "stdout",
     "output_type": "stream",
     "text": [
      "[19.422850779510018 6136.9550120887225 2242.4019302152956]\n",
      "2577.3420617442207\n",
      "0.5042645789836837\n"
     ]
    }
   ],
   "source": [
    "datafile_0til1000 = \"C:\\\\Users\\\\chemegrad202\\\\OneDrive - Massachusetts Institute of Technology\\\\Documents\\\\PhD_research\\\\Braatz_Lab\\\\dsRNA_kinetics\\\\data_input\\\\CHEMI_07192024_0until1000.csv\"\n",
    "standard_data_0til1000 = importlabdata(datafile_0til1000)\n",
    "slope_error_intersect_0til1000, variance_0til1000, cov_0til1000 = slope_estimation_standard(standard_data_0til1000, 10.0)\n",
    "residuals_0til1000= initial_fit(standard_data_0til1000)\n",
    "sigma0til1000 = estimate_sigma(residuals_0til1000)\n",
    "residuals_0til1000_relative = initial_fit_relative(standard_data_0til1000)\n",
    "sigma0til1000_relative = estimate_sigma(residuals_0til1000_relative)\n",
    "println(slope_error_intersect_0til1000)\n",
    "println(sigma0til1000)\n",
    "println(sigma0til1000_relative)"
   ]
  },
  {
   "cell_type": "code",
   "execution_count": null,
   "id": "014e2d40",
   "metadata": {},
   "outputs": [],
   "source": []
  },
  {
   "cell_type": "code",
   "execution_count": 19,
   "id": "18d1f6e7",
   "metadata": {},
   "outputs": [
    {
     "name": "stdout",
     "output_type": "stream",
     "text": [
      "[29.489513018322082 3298.088617306039 991.0531983285127]\n",
      "1216.9669144255136\n",
      "0.4656183137478966\n"
     ]
    }
   ],
   "source": [
    "datafile_0til1000 = \"C:\\\\Users\\\\chemegrad202\\\\OneDrive - Massachusetts Institute of Technology\\\\Documents\\\\PhD_research\\\\Braatz_Lab\\\\dsRNA_kinetics\\\\data_input\\\\CHEMI_07192024_0until1000_no1000.csv\"\n",
    "standard_data_0til1000 = importlabdata(datafile_0til1000)\n",
    "slope_error_intersect_0til1000, variance_0til1000, cov_0til1000 = slope_estimation_standard(standard_data_0til1000, 10.0)\n",
    "residuals_0til1000= initial_fit(standard_data_0til1000)\n",
    "sigma0til1000 = estimate_sigma(residuals_0til1000)\n",
    "residuals_0til1000_relative = initial_fit_relative(standard_data_0til1000)\n",
    "sigma0til1000_relative = estimate_sigma(residuals_0til1000_relative)\n",
    "println(slope_error_intersect_0til1000)\n",
    "println(sigma0til1000)\n",
    "println(sigma0til1000_relative)"
   ]
  },
  {
   "cell_type": "code",
   "execution_count": 18,
   "id": "03a78ef4",
   "metadata": {},
   "outputs": [
    {
     "name": "stdout",
     "output_type": "stream",
     "text": [
      "[23.294928641953152 2846.944993068067 1334.8682045298128]\n",
      "2322.7338883486304\n",
      "0.589348936155279\n"
     ]
    }
   ],
   "source": [
    "datafile_0til500 = \"C:\\\\Users\\\\chemegrad202\\\\OneDrive - Massachusetts Institute of Technology\\\\Documents\\\\PhD_research\\\\Braatz_Lab\\\\dsRNA_kinetics\\\\data_input\\\\CHEMI_07262024_0until500.csv\"\n",
    "standard_data_0til500 = importlabdata(datafile_0til500)\n",
    "slope_error_intersect_0til500, variance_0til500, cov_0til500 = slope_estimation_standard(standard_data_0til500, 10.0)\n",
    "residuals_0til500= initial_fit(standard_data_0til500)\n",
    "sigma0til500 = estimate_sigma(residuals_0til500)\n",
    "residuals_0til500_relative = initial_fit_relative(standard_data_0til500)\n",
    "sigmac0til500_relative = estimate_sigma(residuals_0til500_relative)\n",
    "println(slope_error_intersect_0til500)\n",
    "println(sigma0til500)\n",
    "println(sigmac0til500_relative)"
   ]
  },
  {
   "cell_type": "code",
   "execution_count": 22,
   "id": "36faaeec",
   "metadata": {},
   "outputs": [
    {
     "name": "stdout",
     "output_type": "stream",
     "text": [
      "[12.500572133521661 3723.0621195094213 1865.2270118538927]\n",
      "2367.0084017613635\n",
      "0.7475439199577834\n"
     ]
    }
   ],
   "source": [
    "datafile_15= \"C:\\\\Users\\\\chemegrad202\\\\OneDrive - Massachusetts Institute of Technology\\\\Documents\\\\PhD_research\\\\Braatz_Lab\\\\dsRNA_kinetics\\\\data_input\\\\CHEMI_09212024_113810_15uL.csv\"\n",
    "standard_data_0til1000 = importlabdata(datafile_15)\n",
    "slope_error_intersect_0til1000, variance_0til1000, cov_0til1000 = slope_estimation_standard(standard_data_0til1000, 10.0)\n",
    "residuals_0til1000= initial_fit(standard_data_0til1000)\n",
    "sigma0til1000 = estimate_sigma(residuals_0til1000)\n",
    "residuals_0til1000_relative = initial_fit_relative(standard_data_0til1000)\n",
    "sigma0til1000_relative = estimate_sigma(residuals_0til1000_relative)\n",
    "println(slope_error_intersect_0til1000)\n",
    "println(sigma0til1000)\n",
    "println(sigma0til1000_relative)"
   ]
  },
  {
   "cell_type": "code",
   "execution_count": 23,
   "id": "176e14ae",
   "metadata": {},
   "outputs": [
    {
     "name": "stdout",
     "output_type": "stream",
     "text": [
      "[42.82665294071944 3099.7027923143078 2893.882086343976]\n",
      "2320.197731747398\n",
      "0.46450911643506665\n"
     ]
    }
   ],
   "source": [
    "datafile_50= \"C:\\\\Users\\\\chemegrad202\\\\OneDrive - Massachusetts Institute of Technology\\\\Documents\\\\PhD_research\\\\Braatz_Lab\\\\dsRNA_kinetics\\\\data_input\\\\CHEMI_09212024_113810_50uL.csv\"\n",
    "standard_data_0til1000 = importlabdata(datafile_50)\n",
    "slope_error_intersect_0til1000, variance_0til1000, cov_0til1000 = slope_estimation_standard(standard_data_0til1000, 10.0)\n",
    "residuals_0til1000= initial_fit(standard_data_0til1000)\n",
    "sigma0til1000 = estimate_sigma(residuals_0til1000)\n",
    "residuals_0til1000_relative = initial_fit_relative(standard_data_0til1000)\n",
    "sigma0til1000_relative = estimate_sigma(residuals_0til1000_relative)\n",
    "println(slope_error_intersect_0til1000)\n",
    "println(sigma0til1000)\n",
    "println(sigma0til1000_relative)"
   ]
  },
  {
   "cell_type": "code",
   "execution_count": 24,
   "id": "7c924c8e",
   "metadata": {},
   "outputs": [
    {
     "name": "stdout",
     "output_type": "stream",
     "text": [
      "[44.28554334866292 3002.912318334828 2690.8496848918476]\n",
      "5163.510476257317\n",
      "0.6831837672914781\n"
     ]
    }
   ],
   "source": [
    "datafile_100= \"C:\\\\Users\\\\chemegrad202\\\\OneDrive - Massachusetts Institute of Technology\\\\Documents\\\\PhD_research\\\\Braatz_Lab\\\\dsRNA_kinetics\\\\data_input\\\\CHEMI_09212024_113810_100uL.csv\"\n",
    "standard_data_0til1000 = importlabdata(datafile_100)\n",
    "slope_error_intersect_0til1000, variance_0til1000, cov_0til1000 = slope_estimation_standard(standard_data_0til1000, 10.0)\n",
    "residuals_0til1000= initial_fit(standard_data_0til1000)\n",
    "sigma0til1000 = estimate_sigma(residuals_0til1000)\n",
    "residuals_0til1000_relative = initial_fit_relative(standard_data_0til1000)\n",
    "sigma0til1000_relative = estimate_sigma(residuals_0til1000_relative)\n",
    "println(slope_error_intersect_0til1000)\n",
    "println(sigma0til1000)\n",
    "println(sigma0til1000_relative)"
   ]
  },
  {
   "cell_type": "code",
   "execution_count": 3,
   "id": "3a9091ba",
   "metadata": {},
   "outputs": [
    {
     "name": "stdout",
     "output_type": "stream",
     "text": [
      "[35.83954494645367 3124.690854225804 -169.2922511087836]\n",
      "1679.887005521958\n",
      "1.2226340529091075\n"
     ]
    }
   ],
   "source": [
    "datafile_0til1000 = \"C:\\\\Users\\\\chemegrad202\\\\OneDrive - Massachusetts Institute of Technology\\\\Documents\\\\PhD_research\\\\Braatz_Lab\\\\dsRNA_kinetics\\\\data_input\\\\CHEMI_09252024_123925_3standards_shorterblocking.csv\"\n",
    "standard_data_0til1000 = importlabdata(datafile_0til1000)\n",
    "slope_error_intersect_0til1000, variance_0til1000, cov_0til1000 = slope_estimation_standard(standard_data_0til1000, 10.0)\n",
    "residuals_0til1000= initial_fit(standard_data_0til1000)\n",
    "sigma0til1000 = estimate_sigma(residuals_0til1000)\n",
    "residuals_0til1000_relative = initial_fit_relative(standard_data_0til1000)\n",
    "sigma0til1000_relative = estimate_sigma(residuals_0til1000_relative)\n",
    "println(slope_error_intersect_0til1000)\n",
    "println(sigma0til1000)\n",
    "println(sigma0til1000_relative)"
   ]
  },
  {
   "cell_type": "code",
   "execution_count": 5,
   "id": "286f08c5",
   "metadata": {},
   "outputs": [
    {
     "name": "stdout",
     "output_type": "stream",
     "text": [
      "[10814.767550989074 3369.867690150223 169219.85827265168]\n",
      "777855.2382516084\n",
      "0.40994523930332083\n"
     ]
    }
   ],
   "source": [
    "datafile_50= \"C:\\\\Users\\\\chemegrad202\\\\OneDrive - Massachusetts Institute of Technology\\\\Documents\\\\PhD_research\\\\Braatz_Lab\\\\dsRNA_kinetics\\\\data_input\\\\CHEMI_09272024_153057_all.csv\"\n",
    "standard_data_0til1000 = importlabdata(datafile_50)\n",
    "slope_error_intersect_0til1000, variance_0til1000, cov_0til1000 = slope_estimation_standard(standard_data_0til1000, 10.0)\n",
    "residuals_0til1000= initial_fit(standard_data_0til1000)\n",
    "sigma0til1000 = estimate_sigma(residuals_0til1000)\n",
    "residuals_0til1000_relative = initial_fit_relative(standard_data_0til1000)\n",
    "sigma0til1000_relative = estimate_sigma(residuals_0til1000_relative)\n",
    "println(slope_error_intersect_0til1000)\n",
    "println(sigma0til1000)\n",
    "println(sigma0til1000_relative)"
   ]
  },
  {
   "cell_type": "code",
   "execution_count": null,
   "id": "aac9c443",
   "metadata": {},
   "outputs": [],
   "source": [
    "datafile_50= \"C:\\\\Users\\\\chemegrad202\\\\OneDrive - Massachusetts Institute of Technology\\\\Documents\\\\PhD_research\\\\Braatz_Lab\\\\dsRNA_kinetics\\\\data_input\\\\CHEMI_09272024_153057_all.csv\"\n",
    "standard_data_0til1000 = importlabdata(datafile_50)\n",
    "slope_error_intersect_0til1000, variance_0til1000, cov_0til1000 = slope_estimation_standard(standard_data_0til1000, 10.0)\n",
    "residuals_0til1000= initial_fit(standard_data_0til1000)\n",
    "sigma0til1000 = estimate_sigma(residuals_0til1000)\n",
    "residuals_0til1000_relative = initial_fit_relative(standard_data_0til1000)\n",
    "sigma0til1000_relative = estimate_sigma(residuals_0til1000_relative)\n",
    "println(slope_error_intersect_0til1000)\n",
    "println(sigma0til1000)\n",
    "println(sigma0til1000_relative)"
   ]
  },
  {
   "cell_type": "code",
   "execution_count": 4,
   "id": "ca7c264a",
   "metadata": {},
   "outputs": [
    {
     "name": "stdout",
     "output_type": "stream",
     "text": [
      "[9577.031415492329 2846.9449930680667 326370.9875235609]\n",
      "665520.4143594811\n",
      "0.5596138936520884\n"
     ]
    }
   ],
   "source": [
    "datafile_0til1000 = \"C:\\\\Users\\\\chemegrad202\\\\OneDrive - Massachusetts Institute of Technology\\\\Documents\\\\PhD_research\\\\Braatz_Lab\\\\dsRNA_kinetics\\\\data_input\\\\CHEMI_09272024_153057_row1.CSV\"\n",
    "standard_data_0til1000 = importlabdata(datafile_0til1000)\n",
    "slope_error_intersect_0til1000, variance_0til1000, cov_0til1000 = slope_estimation_standard(standard_data_0til1000, 10.0)\n",
    "residuals_0til1000= initial_fit(standard_data_0til1000)\n",
    "sigma0til1000 = estimate_sigma(residuals_0til1000)\n",
    "residuals_0til1000_relative = initial_fit_relative(standard_data_0til1000)\n",
    "sigma0til1000_relative = estimate_sigma(residuals_0til1000_relative)\n",
    "println(slope_error_intersect_0til1000)\n",
    "println(sigma0til1000)\n",
    "println(sigma0til1000_relative)"
   ]
  },
  {
   "cell_type": "code",
   "execution_count": 6,
   "id": "4b7bde2c",
   "metadata": {},
   "outputs": [
    {
     "name": "stdout",
     "output_type": "stream",
     "text": [
      "[12826.030652544652 2846.9449930680667 449040.9263979895]\n",
      "730211.3316582218\n",
      "0.5642826540561331\n"
     ]
    }
   ],
   "source": [
    "datafile_0til1000 = \"C:\\\\Users\\\\chemegrad202\\\\OneDrive - Massachusetts Institute of Technology\\\\Documents\\\\PhD_research\\\\Braatz_Lab\\\\dsRNA_kinetics\\\\data_input\\\\CHEMI_09272024_153057_row2.CSV\"\n",
    "standard_data_0til1000 = importlabdata(datafile_0til1000)\n",
    "slope_error_intersect_0til1000, variance_0til1000, cov_0til1000 = slope_estimation_standard(standard_data_0til1000, 10.0)\n",
    "residuals_0til1000= initial_fit(standard_data_0til1000)\n",
    "sigma0til1000 = estimate_sigma(residuals_0til1000)\n",
    "residuals_0til1000_relative = initial_fit_relative(standard_data_0til1000)\n",
    "sigma0til1000_relative = estimate_sigma(residuals_0til1000_relative)\n",
    "println(slope_error_intersect_0til1000)\n",
    "println(sigma0til1000)\n",
    "println(sigma0til1000_relative)"
   ]
  },
  {
   "cell_type": "code",
   "execution_count": 9,
   "id": "411f02cc",
   "metadata": {},
   "outputs": [
    {
     "name": "stdout",
     "output_type": "stream",
     "text": [
      "[10814.767550989074 3369.867690150223 169219.85827265168]\n",
      "777855.2382516084\n",
      "0.40994523930332083\n"
     ]
    }
   ],
   "source": [
    "datafile_0til1000 = \"C:\\\\Users\\\\chemegrad202\\\\OneDrive - Massachusetts Institute of Technology\\\\Documents\\\\PhD_research\\\\Braatz_Lab\\\\dsRNA_kinetics\\\\data_input\\\\CHEMI_09272024_153057_row4.CSV\"\n",
    "standard_data_0til1000 = importlabdata(datafile_0til1000)\n",
    "slope_error_intersect_0til1000, variance_0til1000, cov_0til1000 = slope_estimation_standard(standard_data_0til1000, 10.0)\n",
    "residuals_0til1000= initial_fit(standard_data_0til1000)\n",
    "sigma0til1000 = estimate_sigma(residuals_0til1000)\n",
    "residuals_0til1000_relative = initial_fit_relative(standard_data_0til1000)\n",
    "sigma0til1000_relative = estimate_sigma(residuals_0til1000_relative)\n",
    "println(slope_error_intersect_0til1000)\n",
    "println(sigma0til1000)\n",
    "println(sigma0til1000_relative)"
   ]
  },
  {
   "cell_type": "code",
   "execution_count": 5,
   "id": "7366ba4c",
   "metadata": {},
   "outputs": [
    {
     "name": "stdout",
     "output_type": "stream",
     "text": [
      "[4548.16152050983 2846.9449930680667 143548.82299614]\n",
      "255805.6596295571\n",
      "0.6519131573634144\n"
     ]
    }
   ],
   "source": [
    "datafile_0til1000 = \"C:\\\\Users\\\\chemegrad202\\\\OneDrive - Massachusetts Institute of Technology\\\\Documents\\\\PhD_research\\\\Braatz_Lab\\\\dsRNA_kinetics\\\\data_input\\\\CHEMI_09272024_153057_row6.CSV\"\n",
    "standard_data_0til1000 = importlabdata(datafile_0til1000)\n",
    "slope_error_intersect_0til1000, variance_0til1000, cov_0til1000 = slope_estimation_standard(standard_data_0til1000, 10.0)\n",
    "residuals_0til1000= initial_fit(standard_data_0til1000)\n",
    "sigma0til1000 = estimate_sigma(residuals_0til1000)\n",
    "residuals_0til1000_relative = initial_fit_relative(standard_data_0til1000)\n",
    "sigma0til1000_relative = estimate_sigma(residuals_0til1000_relative)\n",
    "println(slope_error_intersect_0til1000)\n",
    "println(sigma0til1000)\n",
    "println(sigma0til1000_relative)"
   ]
  }
 ],
 "metadata": {
  "kernelspec": {
   "display_name": "Julia 1.10.5",
   "language": "julia",
   "name": "julia-1.10"
  },
  "language_info": {
   "file_extension": ".jl",
   "mimetype": "application/julia",
   "name": "julia",
   "version": "1.10.5"
  }
 },
 "nbformat": 4,
 "nbformat_minor": 5
}
